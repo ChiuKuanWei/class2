{
 "cells": [
  {
   "cell_type": "code",
   "execution_count": 1,
   "metadata": {},
   "outputs": [
    {
     "name": "stdout",
     "output_type": "stream",
     "text": [
      "123\n",
      "456\n"
     ]
    }
   ],
   "source": [
    "print(\"123\")\n",
    "print(\"456\")"
   ]
  },
  {
   "cell_type": "code",
   "execution_count": 1,
   "metadata": {},
   "outputs": [
    {
     "name": "stdout",
     "output_type": "stream",
     "text": [
      "i=1\n",
      "j=1 2 3 4 5 6 7 8 9 \n",
      "==============\n",
      "i=2\n",
      "j=1 2 3 4 5 6 7 8 9 \n",
      "==============\n",
      "i=3\n",
      "j=1 2 3 4 5 6 7 8 9 \n",
      "==============\n",
      "i=4\n",
      "j=1 2 3 4 5 6 7 8 9 \n",
      "==============\n",
      "i=5\n",
      "j=1 2 3 4 5 6 7 8 9 \n",
      "==============\n",
      "i=6\n",
      "j=1 2 3 4 5 6 7 8 9 \n",
      "==============\n",
      "i=7\n",
      "j=1 2 3 4 5 6 7 8 9 \n",
      "==============\n",
      "i=8\n",
      "j=1 2 3 4 5 6 7 8 9 \n",
      "==============\n",
      "i=9\n",
      "j=1 2 3 4 5 6 7 8 9 \n",
      "==============\n"
     ]
    }
   ],
   "source": [
    "for i in range(1,10):\n",
    "    print(f'i={i}')\n",
    "    print('j=',end='')   \n",
    "    for j in range(1,10):       \n",
    "        print(f'{j}',end=' ')\n",
    "    print(\"\\n==============\")"
   ]
  },
  {
   "cell_type": "code",
   "execution_count": 5,
   "metadata": {},
   "outputs": [
    {
     "name": "stdout",
     "output_type": "stream",
     "text": [
      "1*1=1 1*2=2 1*3=3 1*4=4 1*5=5 1*6=6 1*7=7 1*8=8 1*9=9 \n",
      "2*1=2 2*2=4 2*3=6 2*4=8 2*5=10 2*6=12 2*7=14 2*8=16 2*9=18 \n",
      "3*1=3 3*2=6 3*3=9 3*4=12 3*5=15 3*6=18 3*7=21 3*8=24 3*9=27 \n",
      "4*1=4 4*2=8 4*3=12 4*4=16 4*5=20 4*6=24 4*7=28 4*8=32 4*9=36 \n",
      "5*1=5 5*2=10 5*3=15 5*4=20 5*5=25 5*6=30 5*7=35 5*8=40 5*9=45 \n",
      "6*1=6 6*2=12 6*3=18 6*4=24 6*5=30 6*6=36 6*7=42 6*8=48 6*9=54 \n",
      "7*1=7 7*2=14 7*3=21 7*4=28 7*5=35 7*6=42 7*7=49 7*8=56 7*9=63 \n",
      "8*1=8 8*2=16 8*3=24 8*4=32 8*5=40 8*6=48 8*7=56 8*8=64 8*9=72 \n",
      "9*1=9 9*2=18 9*3=27 9*4=36 9*5=45 9*6=54 9*7=63 9*8=72 9*9=81 \n"
     ]
    }
   ],
   "source": [
    "for i in range(1,10):\n",
    "    for j in range(1,10):\n",
    "        print(f'{i}*{j}={i*j}',end=' ')\n",
    "    print()"
   ]
  },
  {
   "cell_type": "code",
   "execution_count": 6,
   "metadata": {},
   "outputs": [
    {
     "name": "stdout",
     "output_type": "stream",
     "text": [
      "1\n",
      "2\n",
      "12\n",
      "22\n",
      "24\n",
      "28\n",
      "30\n",
      "33\n",
      "36\n",
      "40\n",
      "44\n",
      "54\n",
      "58\n",
      "65\n",
      "69\n",
      "74\n",
      "83\n",
      "90\n",
      "100\n"
     ]
    }
   ],
   "source": [
    "import random\n",
    "n = 1\n",
    "while n<=100:\n",
    "    print(n)\n",
    "    n += random.randint(1,10)\n"
   ]
  },
  {
   "cell_type": "code",
   "execution_count": 14,
   "metadata": {},
   "outputs": [
    {
     "name": "stdout",
     "output_type": "stream",
     "text": [
      "請輸入整數!\n",
      "請輸入整數!\n",
      "請輸入整數!\n",
      "應用程式結束\n"
     ]
    }
   ],
   "source": [
    "while True:\n",
    "    value = input(\"請輸入整數,輸入(q)離開:\")\n",
    "    if type(value) == str:\n",
    "        if value.lower() == \"q\":\n",
    "            break   \n",
    "        \n",
    "    value = int(value)\n",
    "    if value % 2 == 1:\n",
    "        print(value ** 2)\n",
    "    else:\n",
    "        print(value)\n",
    "\n",
    "print(\"應用程式結束\")"
   ]
  },
  {
   "cell_type": "code",
   "execution_count": 16,
   "metadata": {},
   "outputs": [
    {
     "name": "stdout",
     "output_type": "stream",
     "text": [
      "應用程式結束\n",
      "總共執行3\n",
      "8\n"
     ]
    }
   ],
   "source": [
    "total = 0\n",
    "num = 0\n",
    "while(True):     \n",
    "    value = int(input(f\"請輸入第{num+1}數值:\"))   \n",
    "    if value < 0:\n",
    "        break\n",
    "        print(\"break之後\")\n",
    "    elif value % 2 == 1:\n",
    "        num += 1\n",
    "        continue\n",
    "        print(\"continue之後\")\n",
    "    else:\n",
    "        num += 1\n",
    "        total += value\n",
    "    \n",
    "    \n",
    "print(\"應用程式結束\")\n",
    "print(f\"總共執行{num}\")\n",
    "print(total)"
   ]
  },
  {
   "cell_type": "code",
   "execution_count": 1,
   "metadata": {},
   "outputs": [
    {
     "name": "stdout",
     "output_type": "stream",
     "text": [
      "============猜數字遊戲=================\n",
      "\n",
      "請輸入整數!\n",
      "在小一點!\n"
     ]
    }
   ],
   "source": [
    "import random\n",
    "min = 1\n",
    "max = 100\n",
    "count = 0\n",
    "target = random.randint(min,max)\n",
    "print(\"============猜數字遊戲=================\\n\")\n",
    "while(True):\n",
    "    try:       \n",
    "        keyin = int(input(f\"猜數字的範圍{min}~{max}:\"))\n",
    "    except:\n",
    "        print('請輸入整數!')\n",
    "        continue\n",
    "\n",
    "    if(keyin >= min and keyin <= max):\n",
    "        if keyin == target:\n",
    "            print(f\"賓果!猜對了, 答案是:{keyin}\")\n",
    "            break\n",
    "        elif keyin > target:\n",
    "            print(f\"在小一點!\")\n",
    "            max = max - 1\n",
    "        elif keyin < target:\n",
    "            print(f\"在大一點!\")\n",
    "            min = min + 1\n",
    "        count += 1\n",
    "    else:\n",
    "        print(\"請輸入提示範圍內的數字\")\n",
    "\n",
    "print(f\"您猜了{count}次\")\n",
    "print(\"遊戲結束\")"
   ]
  }
 ],
 "metadata": {
  "kernelspec": {
   "display_name": "Python 3",
   "language": "python",
   "name": "python3"
  },
  "language_info": {
   "codemirror_mode": {
    "name": "ipython",
    "version": 3
   },
   "file_extension": ".py",
   "mimetype": "text/x-python",
   "name": "python",
   "nbconvert_exporter": "python",
   "pygments_lexer": "ipython3",
   "version": "3.11.4"
  }
 },
 "nbformat": 4,
 "nbformat_minor": 2
}
