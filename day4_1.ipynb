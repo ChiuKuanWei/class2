{
 "cells": [
  {
   "cell_type": "code",
   "execution_count": 4,
   "metadata": {},
   "outputs": [
    {
     "name": "stdout",
     "output_type": "stream",
     "text": [
      "酒:紅酒\n",
      "主餐:4號餐\n",
      "甜點:奶昔\n",
      "\n",
      "酒:紅酒\n",
      "主餐:4號餐\n",
      "甜點:頻果派\n"
     ]
    }
   ],
   "source": [
    "def menu(wine:str, entree:int, dessert:str='奶昔'):\n",
    "    print(f'酒:{wine}')\n",
    "    print(f'主餐:{entree}號餐')\n",
    "    print(f'甜點:{dessert}')\n",
    "\n",
    "order = menu('紅酒', 4)\n",
    "print()\n",
    "order1 = menu(wine='紅酒', entree=4, dessert='頻果派')"
   ]
  },
  {
   "cell_type": "code",
   "execution_count": 10,
   "metadata": {},
   "outputs": [
    {
     "name": "stdout",
     "output_type": "stream",
     "text": [
      "53\n",
      "============猜數字遊戲=================\n",
      "\n",
      "再大一點\n",
      "加油@您已經猜了1次\n",
      "賓果!猜對了, 答案是:53\n",
      "您猜了2次\n",
      "3\n",
      "============猜數字遊戲=================\n",
      "\n"
     ]
    },
    {
     "ename": "ValueError",
     "evalue": "invalid literal for int() with base 10: ''",
     "output_type": "error",
     "traceback": [
      "\u001b[1;31m---------------------------------------------------------------------------\u001b[0m",
      "\u001b[1;31mValueError\u001b[0m                                Traceback (most recent call last)",
      "\u001b[1;32mc:\\python-training\\class2\\day4_1.ipynb 儲存格 2\u001b[0m line \u001b[0;36m3\n\u001b[0;32m     <a href='vscode-notebook-cell:/c%3A/python-training/class2/day4_1.ipynb#W1sZmlsZQ%3D%3D?line=34'>35</a>\u001b[0m     \u001b[39mprint\u001b[39m(\u001b[39m\"\u001b[39m\u001b[39m遊戲結束\u001b[39m\u001b[39m\"\u001b[39m)\n\u001b[0;32m     <a href='vscode-notebook-cell:/c%3A/python-training/class2/day4_1.ipynb#W1sZmlsZQ%3D%3D?line=36'>37</a>\u001b[0m \u001b[39mif\u001b[39;00m \u001b[39m__name__\u001b[39m \u001b[39m==\u001b[39m \u001b[39m\"\u001b[39m\u001b[39m__main__\u001b[39m\u001b[39m\"\u001b[39m:\n\u001b[1;32m---> <a href='vscode-notebook-cell:/c%3A/python-training/class2/day4_1.ipynb#W1sZmlsZQ%3D%3D?line=37'>38</a>\u001b[0m     main()\n",
      "\u001b[1;32mc:\\python-training\\class2\\day4_1.ipynb 儲存格 2\u001b[0m line \u001b[0;36m3\n\u001b[0;32m     <a href='vscode-notebook-cell:/c%3A/python-training/class2/day4_1.ipynb#W1sZmlsZQ%3D%3D?line=27'>28</a>\u001b[0m \u001b[39mdef\u001b[39;00m \u001b[39mmain\u001b[39m():   \n\u001b[0;32m     <a href='vscode-notebook-cell:/c%3A/python-training/class2/day4_1.ipynb#W1sZmlsZQ%3D%3D?line=28'>29</a>\u001b[0m     \u001b[39mwhile\u001b[39;00m(\u001b[39mTrue\u001b[39;00m):\n\u001b[1;32m---> <a href='vscode-notebook-cell:/c%3A/python-training/class2/day4_1.ipynb#W1sZmlsZQ%3D%3D?line=29'>30</a>\u001b[0m         playGame()\n\u001b[0;32m     <a href='vscode-notebook-cell:/c%3A/python-training/class2/day4_1.ipynb#W1sZmlsZQ%3D%3D?line=30'>31</a>\u001b[0m         playAgain \u001b[39m=\u001b[39m \u001b[39minput\u001b[39m(\u001b[39m\"\u001b[39m\u001b[39m您還要繼續嗎(y,n)?\u001b[39m\u001b[39m\"\u001b[39m)\n\u001b[0;32m     <a href='vscode-notebook-cell:/c%3A/python-training/class2/day4_1.ipynb#W1sZmlsZQ%3D%3D?line=31'>32</a>\u001b[0m         \u001b[39mif\u001b[39;00m playAgain \u001b[39m==\u001b[39m \u001b[39m'\u001b[39m\u001b[39mn\u001b[39m\u001b[39m'\u001b[39m:\n",
      "\u001b[1;32mc:\\python-training\\class2\\day4_1.ipynb 儲存格 2\u001b[0m line \u001b[0;36m1\n\u001b[0;32m      <a href='vscode-notebook-cell:/c%3A/python-training/class2/day4_1.ipynb#W1sZmlsZQ%3D%3D?line=7'>8</a>\u001b[0m \u001b[39mprint\u001b[39m(\u001b[39m\"\u001b[39m\u001b[39m============猜數字遊戲=================\u001b[39m\u001b[39m\\n\u001b[39;00m\u001b[39m\"\u001b[39m)\n\u001b[0;32m      <a href='vscode-notebook-cell:/c%3A/python-training/class2/day4_1.ipynb#W1sZmlsZQ%3D%3D?line=8'>9</a>\u001b[0m \u001b[39mwhile\u001b[39;00m(\u001b[39mTrue\u001b[39;00m):\n\u001b[1;32m---> <a href='vscode-notebook-cell:/c%3A/python-training/class2/day4_1.ipynb#W1sZmlsZQ%3D%3D?line=9'>10</a>\u001b[0m     keyin \u001b[39m=\u001b[39m \u001b[39mint\u001b[39;49m(\u001b[39minput\u001b[39;49m(\u001b[39mf\u001b[39;49m\u001b[39m\"\u001b[39;49m\u001b[39m猜數字的範圍\u001b[39;49m\u001b[39m{\u001b[39;49;00m\u001b[39mmin\u001b[39;49m\u001b[39m}\u001b[39;49;00m\u001b[39m~\u001b[39;49m\u001b[39m{\u001b[39;49;00m\u001b[39mmax\u001b[39;49m\u001b[39m}\u001b[39;49;00m\u001b[39m:\u001b[39;49m\u001b[39m\"\u001b[39;49m))\n\u001b[0;32m     <a href='vscode-notebook-cell:/c%3A/python-training/class2/day4_1.ipynb#W1sZmlsZQ%3D%3D?line=10'>11</a>\u001b[0m     count \u001b[39m+\u001b[39m\u001b[39m=\u001b[39m \u001b[39m1\u001b[39m\n\u001b[0;32m     <a href='vscode-notebook-cell:/c%3A/python-training/class2/day4_1.ipynb#W1sZmlsZQ%3D%3D?line=11'>12</a>\u001b[0m     \u001b[39mif\u001b[39;00m(keyin \u001b[39m>\u001b[39m\u001b[39m=\u001b[39m \u001b[39mmin\u001b[39m \u001b[39mand\u001b[39;00m keyin \u001b[39m<\u001b[39m\u001b[39m=\u001b[39m \u001b[39mmax\u001b[39m):\n",
      "\u001b[1;31mValueError\u001b[0m: invalid literal for int() with base 10: ''"
     ]
    }
   ],
   "source": [
    "import random\n",
    "def playGame():\n",
    "    min = 1\n",
    "    max = 100\n",
    "    count = 0\n",
    "    target = random.randint(min,max)\n",
    "    print(target)\n",
    "    print(\"============猜數字遊戲=================\\n\")\n",
    "    while(True):\n",
    "        keyin = int(input(f\"猜數字的範圍{min}~{max}:\"))\n",
    "        count += 1\n",
    "        if(keyin >= min and keyin <= max):\n",
    "            if keyin == target:\n",
    "                print(f\"賓果!猜對了, 答案是:{keyin}\")\n",
    "                break\n",
    "            elif keyin > target:\n",
    "                print(\"再小一點\")\n",
    "                max = keyin - 1\n",
    "            elif keyin < target:\n",
    "                print(\"再大一點\")\n",
    "                min = keyin + 1\n",
    "            print(f\"加油@您已經猜了{count}次\")\n",
    "            continue\n",
    "        else:\n",
    "            print(\"請輸入提示範圍內的數字\")\n",
    "    print(f\"您猜了{count}次\")\n",
    "\n",
    "def main():   \n",
    "    while(True):\n",
    "        playGame()\n",
    "        playAgain = input(\"您還要繼續嗎(y,n)?\")\n",
    "        if playAgain == 'n':\n",
    "            break\n",
    "        \n",
    "    print(\"遊戲結束\")\n",
    "\n",
    "if __name__ == \"__main__\":\n",
    "    main()\n",
    "    \n",
    "\n"
   ]
  }
 ],
 "metadata": {
  "kernelspec": {
   "display_name": "Python 3",
   "language": "python",
   "name": "python3"
  },
  "language_info": {
   "codemirror_mode": {
    "name": "ipython",
    "version": 3
   },
   "file_extension": ".py",
   "mimetype": "text/x-python",
   "name": "python",
   "nbconvert_exporter": "python",
   "pygments_lexer": "ipython3",
   "version": "3.11.4"
  }
 },
 "nbformat": 4,
 "nbformat_minor": 2
}
