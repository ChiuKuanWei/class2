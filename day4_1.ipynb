{
 "cells": [
  {
   "cell_type": "code",
   "execution_count": 4,
   "metadata": {},
   "outputs": [
    {
     "name": "stdout",
     "output_type": "stream",
     "text": [
      "酒:紅酒\n",
      "主餐:4號餐\n",
      "甜點:奶昔\n",
      "\n",
      "酒:紅酒\n",
      "主餐:4號餐\n",
      "甜點:頻果派\n"
     ]
    }
   ],
   "source": [
    "def menu(wine:str, entree:int, dessert:str='奶昔'):\n",
    "    print(f'酒:{wine}')\n",
    "    print(f'主餐:{entree}號餐')\n",
    "    print(f'甜點:{dessert}')\n",
    "\n",
    "order = menu('紅酒', 4)\n",
    "print()\n",
    "order1 = menu(wine='紅酒', entree=4, dessert='頻果派')"
   ]
  },
  {
   "cell_type": "code",
   "execution_count": null,
   "metadata": {},
   "outputs": [],
   "source": [
    "import random\n",
    "min = 1\n",
    "max = 100\n",
    "count = 0\n",
    "target = random.randint(min,max)\n"
   ]
  }
 ],
 "metadata": {
  "kernelspec": {
   "display_name": "Python 3",
   "language": "python",
   "name": "python3"
  },
  "language_info": {
   "codemirror_mode": {
    "name": "ipython",
    "version": 3
   },
   "file_extension": ".py",
   "mimetype": "text/x-python",
   "name": "python",
   "nbconvert_exporter": "python",
   "pygments_lexer": "ipython3",
   "version": "3.11.4"
  }
 },
 "nbformat": 4,
 "nbformat_minor": 2
}
